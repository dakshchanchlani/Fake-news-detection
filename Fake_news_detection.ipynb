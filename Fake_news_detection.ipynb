{
  "nbformat": 4,
  "nbformat_minor": 0,
  "metadata": {
    "colab": {
      "name": "Fake news detection.ipynb",
      "provenance": [],
      "collapsed_sections": [],
      "authorship_tag": "ABX9TyPxrIRF/uS9fG0Abs0FJ0rD",
      "include_colab_link": true
    },
    "kernelspec": {
      "name": "python3",
      "display_name": "Python 3"
    },
    "language_info": {
      "name": "python"
    }
  },
  "cells": [
    {
      "cell_type": "markdown",
      "metadata": {
        "id": "view-in-github",
        "colab_type": "text"
      },
      "source": [
        "<a href=\"https://colab.research.google.com/github/dakshchanchlani/Fake-news-detection/blob/main/Fake_news_detection.ipynb\" target=\"_parent\"><img src=\"https://colab.research.google.com/assets/colab-badge.svg\" alt=\"Open In Colab\"/></a>"
      ]
    },
    {
      "cell_type": "markdown",
      "source": [
        "Importing the Dependencies"
      ],
      "metadata": {
        "id": "50V9m1PW0uiP"
      }
    },
    {
      "cell_type": "code",
      "source": [
        "import numpy as np #numpy is used for making numpy arrays\n",
        "\n",
        "\n",
        "import pandas as pd #used for creating a data frame and storing the data in the dataframe\n",
        "\n",
        "import re #regular expression(re) it is used for searching text in document  \n",
        "\n",
        "from nltk.corpus import stopwords #natural language tool kit(nltk)   corpus is collection of text documents\n",
        "\n",
        "# stopwards means words which doesn't add much value to the text or para\n",
        "\n",
        "from nltk.stem.porter import PorterStemmer #(stemming takes the word and removes suffix and prefix of the word and take the root of the word)\n",
        "\n",
        "from sklearn.feature_extraction.text import TfidfVectorizer #(it is used to convert the text into feature vectors(numbers))\n",
        "\n",
        "from sklearn.model_selection import train_test_split #(used to split data into test and train datasets)\n",
        "\n",
        "from sklearn.linear_model import LogisticRegression\n",
        "\n",
        "from sklearn.metrics import accuracy_score "
      ],
      "metadata": {
        "id": "4d8UTsrL03tb"
      },
      "execution_count": null,
      "outputs": []
    },
    {
      "cell_type": "code",
      "source": [
        "import nltk\n",
        "\n",
        "nltk.download('stopwords')\n",
        "\n",
        "#downloded stopwords\n"
      ],
      "metadata": {
        "colab": {
          "base_uri": "https://localhost:8080/"
        },
        "id": "BrA3YsA842zr",
        "outputId": "39f9c025-4e2c-4aad-c775-b5e4dedddb17"
      },
      "execution_count": null,
      "outputs": [
        {
          "output_type": "stream",
          "name": "stdout",
          "text": [
            "[nltk_data] Downloading package stopwords to /root/nltk_data...\n",
            "[nltk_data]   Unzipping corpora/stopwords.zip.\n"
          ]
        },
        {
          "output_type": "execute_result",
          "data": {
            "text/plain": [
              "True"
            ]
          },
          "metadata": {},
          "execution_count": 2
        }
      ]
    },
    {
      "cell_type": "code",
      "source": [
        "print(stopwords.words('english'))\n",
        "\n",
        "#its printing all the common words from english "
      ],
      "metadata": {
        "colab": {
          "base_uri": "https://localhost:8080/"
        },
        "id": "4SWDiBc_5DWP",
        "outputId": "b3d6a86b-ee7e-4ca8-9721-f3f36a2c4d22"
      },
      "execution_count": null,
      "outputs": [
        {
          "output_type": "stream",
          "name": "stdout",
          "text": [
            "['i', 'me', 'my', 'myself', 'we', 'our', 'ours', 'ourselves', 'you', \"you're\", \"you've\", \"you'll\", \"you'd\", 'your', 'yours', 'yourself', 'yourselves', 'he', 'him', 'his', 'himself', 'she', \"she's\", 'her', 'hers', 'herself', 'it', \"it's\", 'its', 'itself', 'they', 'them', 'their', 'theirs', 'themselves', 'what', 'which', 'who', 'whom', 'this', 'that', \"that'll\", 'these', 'those', 'am', 'is', 'are', 'was', 'were', 'be', 'been', 'being', 'have', 'has', 'had', 'having', 'do', 'does', 'did', 'doing', 'a', 'an', 'the', 'and', 'but', 'if', 'or', 'because', 'as', 'until', 'while', 'of', 'at', 'by', 'for', 'with', 'about', 'against', 'between', 'into', 'through', 'during', 'before', 'after', 'above', 'below', 'to', 'from', 'up', 'down', 'in', 'out', 'on', 'off', 'over', 'under', 'again', 'further', 'then', 'once', 'here', 'there', 'when', 'where', 'why', 'how', 'all', 'any', 'both', 'each', 'few', 'more', 'most', 'other', 'some', 'such', 'no', 'nor', 'not', 'only', 'own', 'same', 'so', 'than', 'too', 'very', 's', 't', 'can', 'will', 'just', 'don', \"don't\", 'should', \"should've\", 'now', 'd', 'll', 'm', 'o', 're', 've', 'y', 'ain', 'aren', \"aren't\", 'couldn', \"couldn't\", 'didn', \"didn't\", 'doesn', \"doesn't\", 'hadn', \"hadn't\", 'hasn', \"hasn't\", 'haven', \"haven't\", 'isn', \"isn't\", 'ma', 'mightn', \"mightn't\", 'mustn', \"mustn't\", 'needn', \"needn't\", 'shan', \"shan't\", 'shouldn', \"shouldn't\", 'wasn', \"wasn't\", 'weren', \"weren't\", 'won', \"won't\", 'wouldn', \"wouldn't\"]\n"
          ]
        }
      ]
    },
    {
      "cell_type": "markdown",
      "source": [
        "Data Pre-processing\n"
      ],
      "metadata": {
        "id": "Qd3Ie9w55sZJ"
      }
    },
    {
      "cell_type": "code",
      "source": [
        "#laoding the dataset to a pandas dataset\n",
        "news_dataset = pd.read_csv('train.csv', engine='python', error_bad_lines=False)"
      ],
      "metadata": {
        "id": "hQM699-96Uvy",
        "colab": {
          "base_uri": "https://localhost:8080/"
        },
        "outputId": "b682d9de-95fd-4d4f-cffa-5648e9ba8629"
      },
      "execution_count": null,
      "outputs": [
        {
          "output_type": "stream",
          "name": "stderr",
          "text": [
            "/usr/local/lib/python3.7/dist-packages/IPython/core/interactiveshell.py:2882: FutureWarning: The error_bad_lines argument has been deprecated and will be removed in a future version.\n",
            "\n",
            "\n",
            "  exec(code_obj, self.user_global_ns, self.user_ns)\n",
            "Skipping line 11827: unexpected end of data\n"
          ]
        }
      ]
    },
    {
      "cell_type": "code",
      "source": [
        "news_dataset.shape    #to check total number of rows and columns in data\n",
        "\n"
      ],
      "metadata": {
        "colab": {
          "base_uri": "https://localhost:8080/"
        },
        "id": "pkhu4dTJ6nur",
        "outputId": "be800d38-96db-4461-93c2-a0a4eb9ac5b4"
      },
      "execution_count": null,
      "outputs": [
        {
          "output_type": "execute_result",
          "data": {
            "text/plain": [
              "(11825, 5)"
            ]
          },
          "metadata": {},
          "execution_count": 5
        }
      ]
    },
    {
      "cell_type": "code",
      "source": [
        "#print the first 5 rows of the dataset\n",
        "news_dataset.head()"
      ],
      "metadata": {
        "colab": {
          "base_uri": "https://localhost:8080/",
          "height": 354
        },
        "id": "DHQUhHXH6uRm",
        "outputId": "dd0ea17c-e894-48aa-c51c-819afedb768c"
      },
      "execution_count": null,
      "outputs": [
        {
          "output_type": "execute_result",
          "data": {
            "text/html": [
              "\n",
              "  <div id=\"df-840d8e13-472c-428b-b71b-96ee21b4aebe\">\n",
              "    <div class=\"colab-df-container\">\n",
              "      <div>\n",
              "<style scoped>\n",
              "    .dataframe tbody tr th:only-of-type {\n",
              "        vertical-align: middle;\n",
              "    }\n",
              "\n",
              "    .dataframe tbody tr th {\n",
              "        vertical-align: top;\n",
              "    }\n",
              "\n",
              "    .dataframe thead th {\n",
              "        text-align: right;\n",
              "    }\n",
              "</style>\n",
              "<table border=\"1\" class=\"dataframe\">\n",
              "  <thead>\n",
              "    <tr style=\"text-align: right;\">\n",
              "      <th></th>\n",
              "      <th>id</th>\n",
              "      <th>title</th>\n",
              "      <th>author</th>\n",
              "      <th>text</th>\n",
              "      <th>label</th>\n",
              "    </tr>\n",
              "  </thead>\n",
              "  <tbody>\n",
              "    <tr>\n",
              "      <th>0</th>\n",
              "      <td>0</td>\n",
              "      <td>House Dem Aide: We Didn’t Even See Comey’s Let...</td>\n",
              "      <td>Darrell Lucus</td>\n",
              "      <td>House Dem Aide: We Didn’t Even See Comey’s Let...</td>\n",
              "      <td>1</td>\n",
              "    </tr>\n",
              "    <tr>\n",
              "      <th>1</th>\n",
              "      <td>1</td>\n",
              "      <td>FLYNN: Hillary Clinton, Big Woman on Campus - ...</td>\n",
              "      <td>Daniel J. Flynn</td>\n",
              "      <td>Ever get the feeling your life circles the rou...</td>\n",
              "      <td>0</td>\n",
              "    </tr>\n",
              "    <tr>\n",
              "      <th>2</th>\n",
              "      <td>2</td>\n",
              "      <td>Why the Truth Might Get You Fired</td>\n",
              "      <td>Consortiumnews.com</td>\n",
              "      <td>Why the Truth Might Get You Fired October 29, ...</td>\n",
              "      <td>1</td>\n",
              "    </tr>\n",
              "    <tr>\n",
              "      <th>3</th>\n",
              "      <td>3</td>\n",
              "      <td>15 Civilians Killed In Single US Airstrike Hav...</td>\n",
              "      <td>Jessica Purkiss</td>\n",
              "      <td>Videos 15 Civilians Killed In Single US Airstr...</td>\n",
              "      <td>1</td>\n",
              "    </tr>\n",
              "    <tr>\n",
              "      <th>4</th>\n",
              "      <td>4</td>\n",
              "      <td>Iranian woman jailed for fictional unpublished...</td>\n",
              "      <td>Howard Portnoy</td>\n",
              "      <td>Print \\nAn Iranian woman has been sentenced to...</td>\n",
              "      <td>1</td>\n",
              "    </tr>\n",
              "  </tbody>\n",
              "</table>\n",
              "</div>\n",
              "      <button class=\"colab-df-convert\" onclick=\"convertToInteractive('df-840d8e13-472c-428b-b71b-96ee21b4aebe')\"\n",
              "              title=\"Convert this dataframe to an interactive table.\"\n",
              "              style=\"display:none;\">\n",
              "        \n",
              "  <svg xmlns=\"http://www.w3.org/2000/svg\" height=\"24px\"viewBox=\"0 0 24 24\"\n",
              "       width=\"24px\">\n",
              "    <path d=\"M0 0h24v24H0V0z\" fill=\"none\"/>\n",
              "    <path d=\"M18.56 5.44l.94 2.06.94-2.06 2.06-.94-2.06-.94-.94-2.06-.94 2.06-2.06.94zm-11 1L8.5 8.5l.94-2.06 2.06-.94-2.06-.94L8.5 2.5l-.94 2.06-2.06.94zm10 10l.94 2.06.94-2.06 2.06-.94-2.06-.94-.94-2.06-.94 2.06-2.06.94z\"/><path d=\"M17.41 7.96l-1.37-1.37c-.4-.4-.92-.59-1.43-.59-.52 0-1.04.2-1.43.59L10.3 9.45l-7.72 7.72c-.78.78-.78 2.05 0 2.83L4 21.41c.39.39.9.59 1.41.59.51 0 1.02-.2 1.41-.59l7.78-7.78 2.81-2.81c.8-.78.8-2.07 0-2.86zM5.41 20L4 18.59l7.72-7.72 1.47 1.35L5.41 20z\"/>\n",
              "  </svg>\n",
              "      </button>\n",
              "      \n",
              "  <style>\n",
              "    .colab-df-container {\n",
              "      display:flex;\n",
              "      flex-wrap:wrap;\n",
              "      gap: 12px;\n",
              "    }\n",
              "\n",
              "    .colab-df-convert {\n",
              "      background-color: #E8F0FE;\n",
              "      border: none;\n",
              "      border-radius: 50%;\n",
              "      cursor: pointer;\n",
              "      display: none;\n",
              "      fill: #1967D2;\n",
              "      height: 32px;\n",
              "      padding: 0 0 0 0;\n",
              "      width: 32px;\n",
              "    }\n",
              "\n",
              "    .colab-df-convert:hover {\n",
              "      background-color: #E2EBFA;\n",
              "      box-shadow: 0px 1px 2px rgba(60, 64, 67, 0.3), 0px 1px 3px 1px rgba(60, 64, 67, 0.15);\n",
              "      fill: #174EA6;\n",
              "    }\n",
              "\n",
              "    [theme=dark] .colab-df-convert {\n",
              "      background-color: #3B4455;\n",
              "      fill: #D2E3FC;\n",
              "    }\n",
              "\n",
              "    [theme=dark] .colab-df-convert:hover {\n",
              "      background-color: #434B5C;\n",
              "      box-shadow: 0px 1px 3px 1px rgba(0, 0, 0, 0.15);\n",
              "      filter: drop-shadow(0px 1px 2px rgba(0, 0, 0, 0.3));\n",
              "      fill: #FFFFFF;\n",
              "    }\n",
              "  </style>\n",
              "\n",
              "      <script>\n",
              "        const buttonEl =\n",
              "          document.querySelector('#df-840d8e13-472c-428b-b71b-96ee21b4aebe button.colab-df-convert');\n",
              "        buttonEl.style.display =\n",
              "          google.colab.kernel.accessAllowed ? 'block' : 'none';\n",
              "\n",
              "        async function convertToInteractive(key) {\n",
              "          const element = document.querySelector('#df-840d8e13-472c-428b-b71b-96ee21b4aebe');\n",
              "          const dataTable =\n",
              "            await google.colab.kernel.invokeFunction('convertToInteractive',\n",
              "                                                     [key], {});\n",
              "          if (!dataTable) return;\n",
              "\n",
              "          const docLinkHtml = 'Like what you see? Visit the ' +\n",
              "            '<a target=\"_blank\" href=https://colab.research.google.com/notebooks/data_table.ipynb>data table notebook</a>'\n",
              "            + ' to learn more about interactive tables.';\n",
              "          element.innerHTML = '';\n",
              "          dataTable['output_type'] = 'display_data';\n",
              "          await google.colab.output.renderOutput(dataTable, element);\n",
              "          const docLink = document.createElement('div');\n",
              "          docLink.innerHTML = docLinkHtml;\n",
              "          element.appendChild(docLink);\n",
              "        }\n",
              "      </script>\n",
              "    </div>\n",
              "  </div>\n",
              "  "
            ],
            "text/plain": [
              "   id  ... label\n",
              "0   0  ...     1\n",
              "1   1  ...     0\n",
              "2   2  ...     1\n",
              "3   3  ...     1\n",
              "4   4  ...     1\n",
              "\n",
              "[5 rows x 5 columns]"
            ]
          },
          "metadata": {},
          "execution_count": 6
        }
      ]
    },
    {
      "cell_type": "code",
      "source": [
        "\n",
        "# counting the numbers of missing values in the dataset\n",
        "news_dataset.isnull().sum()   #sum for totalling the number "
      ],
      "metadata": {
        "colab": {
          "base_uri": "https://localhost:8080/"
        },
        "id": "OJO3tryz7TbQ",
        "outputId": "a1fa4ecc-4372-49e6-9a41-e842f13d9dcc"
      },
      "execution_count": null,
      "outputs": [
        {
          "output_type": "execute_result",
          "data": {
            "text/plain": [
              "id           0\n",
              "title      322\n",
              "author    1101\n",
              "text        25\n",
              "label        0\n",
              "dtype: int64"
            ]
          },
          "metadata": {},
          "execution_count": 7
        }
      ]
    },
    {
      "cell_type": "code",
      "source": [
        "#replacing null values with empty string just cuz we don't have lot number of missing values\n",
        "news_dataset=news_dataset.fillna('')   #fillna means filling null string in missing values place"
      ],
      "metadata": {
        "id": "orf832O77tmZ"
      },
      "execution_count": null,
      "outputs": []
    },
    {
      "cell_type": "code",
      "source": [
        "#merging the author name and  news tile\n",
        "\n",
        "news_dataset['content'] = news_dataset['author']+' '+news_dataset['title']\n",
        "\n",
        "# here we have made new column name content and there we have stored the values of both author and title by writing above command"
      ],
      "metadata": {
        "id": "tSDvomIs832j"
      },
      "execution_count": null,
      "outputs": []
    },
    {
      "cell_type": "code",
      "source": [
        "print(news_dataset['content'])  #here we have printed new column content to check the changes"
      ],
      "metadata": {
        "colab": {
          "base_uri": "https://localhost:8080/"
        },
        "id": "2EUGLPg1-BSx",
        "outputId": "285d457f-7542-4f9e-b373-74a69fc24f0d"
      },
      "execution_count": null,
      "outputs": [
        {
          "output_type": "stream",
          "name": "stdout",
          "text": [
            "0        Darrell Lucus House Dem Aide: We Didn’t Even S...\n",
            "1        Daniel J. Flynn FLYNN: Hillary Clinton, Big Wo...\n",
            "2        Consortiumnews.com Why the Truth Might Get You...\n",
            "3        Jessica Purkiss 15 Civilians Killed In Single ...\n",
            "4        Howard Portnoy Iranian woman jailed for fictio...\n",
            "                               ...                        \n",
            "16997    Charlie Spiering Donald Trump and Family Atten...\n",
            "16998    Julie Hirschfeld Davis Trump and Obama Hold Co...\n",
            "16999    Tyler Durden Assange predicts Trump will lose,...\n",
            "17000    Tom Ciccotta Gr-r-reat? Why Amazon’s Whole Foo...\n",
            "17001    Somini Sengupta United Nations Chief Exposes L...\n",
            "Name: content, Length: 17002, dtype: object\n"
          ]
        }
      ]
    },
    {
      "cell_type": "code",
      "source": [
        "# seperating the label from data\n",
        "# column = (axis =1)\n",
        "# row = (axis=0)\n",
        "\n",
        "X= news_dataset.drop(columns='label',axis =1)\n",
        "\n",
        "# here we dropped the label column from data and now X only contains all the columns except label\n",
        "\n",
        "Y= news_dataset['label']\n",
        "# we stored label column in Y so that we can call it later\n"
      ],
      "metadata": {
        "id": "PHbIBYWq-JRu"
      },
      "execution_count": null,
      "outputs": []
    },
    {
      "cell_type": "code",
      "source": [
        "print(X)  # you will see all the columns except label\n",
        "print(Y)  # in this you will just see label; column"
      ],
      "metadata": {
        "colab": {
          "base_uri": "https://localhost:8080/"
        },
        "id": "CvHf-pB1_kJ3",
        "outputId": "03d5bc82-47cc-489c-8375-cd2799349561"
      },
      "execution_count": null,
      "outputs": [
        {
          "output_type": "stream",
          "name": "stdout",
          "text": [
            "          id  ...                                            content\n",
            "0          0  ...  Darrell Lucus House Dem Aide: We Didn’t Even S...\n",
            "1          1  ...  Daniel J. Flynn FLYNN: Hillary Clinton, Big Wo...\n",
            "2          2  ...  Consortiumnews.com Why the Truth Might Get You...\n",
            "3          3  ...  Jessica Purkiss 15 Civilians Killed In Single ...\n",
            "4          4  ...  Howard Portnoy Iranian woman jailed for fictio...\n",
            "...      ...  ...                                                ...\n",
            "11820  11820  ...  Dave Hodges Texas Elector Expects Massive Corr...\n",
            "11821  11821  ...  Norm Bimstein (UID 71489130) Neocon Trotskyite...\n",
            "11822  11822  ...  Michelle Oxman No Search Warrant Yet: FBI Can’...\n",
            "11823  11823  ...  Kit O'Connell #NoDAPL Spills Over: Musicians B...\n",
            "11824  11824  ...  Robert Fisk A View of the Syrian War From the ...\n",
            "\n",
            "[11825 rows x 5 columns]\n",
            "0        1\n",
            "1        0\n",
            "2        1\n",
            "3        1\n",
            "4        1\n",
            "        ..\n",
            "11820    1\n",
            "11821    1\n",
            "11822    1\n",
            "11823    1\n",
            "11824    1\n",
            "Name: label, Length: 11825, dtype: int64\n"
          ]
        }
      ]
    },
    {
      "cell_type": "markdown",
      "source": [
        "Stemming is the process of reducing a word to its root words\n",
        "\n",
        "Example:\n",
        "\n",
        "actor, actoress, acting, -----> act"
      ],
      "metadata": {
        "id": "PvTYm1IxAiEV"
      }
    },
    {
      "cell_type": "code",
      "source": [
        "\n",
        "port_stem = PorterStemmer()\n",
        "#here we have created a shortcut for function by storing it in a variable\n"
      ],
      "metadata": {
        "id": "96N3rtceAqDv"
      },
      "execution_count": null,
      "outputs": []
    },
    {
      "cell_type": "code",
      "source": [
        "def stemming(content):   \n",
        "\n",
        "  stemmed_content = re.sub('[^a-zA-Z]',' ', content) \n",
        "  stemmed_content = stemmed_content.lower()\n",
        "  stemmed_content = stemmed_content.split()\n",
        "  stemmed_content = [port_stem.stem(word) for word in stemmed_content if not word in stopwords.words('english')]\n",
        "  stemmed_content = ' '.join(stemmed_content)\n",
        "  return stemmed_content"
      ],
      "metadata": {
        "id": "PTZz_HltCJ6F"
      },
      "execution_count": null,
      "outputs": []
    },
    {
      "cell_type": "markdown",
      "source": [
        "1) We are creating a function called stemming and input as content(its not that we need to mention the same word as name of column we just did like this only)\n",
        "\n",
        "2) re is being used for searching a paragrah for text\n",
        "   sub is used for substituting the values\n",
        "\n",
        "3) replace all the characters except a-z and A-Z with the empty string\n",
        "\n",
        "4) split : to convert all the words into a list by using spacing and spliting\n",
        "\n",
        "5) using a for loop we are iterating and we are doing stemming only for the words which are not stopwords\n",
        "\n",
        "6) join all the stemmed content to make a paragraph\n"
      ],
      "metadata": {
        "id": "f6AnoS-B5B7P"
      }
    },
    {
      "cell_type": "code",
      "source": [
        "news_dataset['content'] = news_dataset['content'].apply(stemming)\n",
        "#here we are applying stemming to our content"
      ],
      "metadata": {
        "id": "8nJaXcHH7Ue2"
      },
      "execution_count": null,
      "outputs": []
    },
    {
      "cell_type": "code",
      "source": [
        "print(news_dataset['content'])\n",
        "#printing the stemmed content"
      ],
      "metadata": {
        "colab": {
          "base_uri": "https://localhost:8080/"
        },
        "id": "fnX_j7nJ7lgj",
        "outputId": "310f5150-488e-46a1-f655-dec3e72bc011"
      },
      "execution_count": null,
      "outputs": [
        {
          "output_type": "stream",
          "name": "stdout",
          "text": [
            "0        darrel lucu hous dem aid even see comey letter...\n",
            "1        daniel j flynn flynn hillari clinton big woman...\n",
            "2                   consortiumnew com truth might get fire\n",
            "3        jessica purkiss civilian kill singl us airstri...\n",
            "4        howard portnoy iranian woman jail fiction unpu...\n",
            "                               ...                        \n",
            "11820    dave hodg texa elector expect massiv corrupt r...\n",
            "11821    norm bimstein uid neocon trotskyit hanniti wan...\n",
            "11822    michel oxman search warrant yet fbi move email...\n",
            "11823    kit connel nodapl spill musician boycott dakot...\n",
            "11824             robert fisk view syrian war golan height\n",
            "Name: content, Length: 11825, dtype: object\n"
          ]
        }
      ]
    },
    {
      "cell_type": "code",
      "source": [
        "#sepaerating the data and label\n",
        "#WE ARE JUST MAKING THE LIST OF STEMMED DATA AND THERE ALSO WE ARE SEPERATING \n",
        "X = news_dataset['content'].values\n",
        "print(X)\n",
        "Y=news_dataset['label'].values\n",
        "print(Y)"
      ],
      "metadata": {
        "colab": {
          "base_uri": "https://localhost:8080/"
        },
        "id": "ZKLnK6SR9T__",
        "outputId": "44300f6d-63a2-4e97-cbe6-807464c14419"
      },
      "execution_count": null,
      "outputs": [
        {
          "output_type": "stream",
          "name": "stdout",
          "text": [
            "['darrel lucu hous dem aid even see comey letter jason chaffetz tweet'\n",
            " 'daniel j flynn flynn hillari clinton big woman campu breitbart'\n",
            " 'consortiumnew com truth might get fire' ...\n",
            " 'michel oxman search warrant yet fbi move email investig'\n",
            " 'kit connel nodapl spill musician boycott dakota access pipelin ceo record label festiv'\n",
            " 'robert fisk view syrian war golan height']\n",
            "[1 0 1 ... 1 1 1]\n"
          ]
        }
      ]
    },
    {
      "cell_type": "code",
      "source": [
        "Y.shape"
      ],
      "metadata": {
        "colab": {
          "base_uri": "https://localhost:8080/"
        },
        "id": "yiLQRXSRB5L6",
        "outputId": "430c625c-b84d-457a-db2a-8c99b2aeeb50"
      },
      "execution_count": null,
      "outputs": [
        {
          "output_type": "execute_result",
          "data": {
            "text/plain": [
              "(11825,)"
            ]
          },
          "metadata": {},
          "execution_count": 17
        }
      ]
    },
    {
      "cell_type": "code",
      "source": [
        "# converting the textual data into numerical daya\n",
        "\n",
        "#tf is term frequency and idf is Inverse document frequency\n",
        "\n",
        "#Tf : to count number of times a word is repeating in the particular text\n",
        "\n",
        "#Tf assign the numerical value to the word which is repeating several times considered as important \n",
        "#idf : it assign the numerical values to the words which are repeating but having no significance \n",
        "\n",
        "vectorizer = TfidfVectorizer() #created a shortcut for TfidVectorizer function\n",
        "vectorizer.fit(X)  #fitted all the data of X invectorizer =  vectorizer.transform(X\n",
        "\n",
        "X = vectorizer.transform(X)  #converts all the words are convert into feature vectors\n"
      ],
      "metadata": {
        "id": "KCJ-C4m1CpvW"
      },
      "execution_count": null,
      "outputs": []
    },
    {
      "cell_type": "code",
      "source": [
        "print(X)"
      ],
      "metadata": {
        "colab": {
          "base_uri": "https://localhost:8080/"
        },
        "id": "-jpftzv_Ffrd",
        "outputId": "e1ecb42d-a4fd-41ab-f885-9126db34ed57"
      },
      "execution_count": null,
      "outputs": [
        {
          "output_type": "stream",
          "name": "stdout",
          "text": [
            "  (0, 12219)\t0.28621144217362343\n",
            "  (0, 10478)\t0.2629798164626514\n",
            "  (0, 6952)\t0.35768376892660153\n",
            "  (0, 6735)\t0.2894056162896596\n",
            "  (0, 6017)\t0.24630927225626897\n",
            "  (0, 5489)\t0.22519583287943606\n",
            "  (0, 3908)\t0.23751243049296497\n",
            "  (0, 2989)\t0.27083817205627986\n",
            "  (0, 2836)\t0.35768376892660153\n",
            "  (0, 2330)\t0.24882075695474679\n",
            "  (0, 1957)\t0.36343918910076006\n",
            "  (0, 225)\t0.27229938406504056\n",
            "  (1, 13040)\t0.29517324650019117\n",
            "  (1, 5353)\t0.1883358222127907\n",
            "  (1, 4333)\t0.7189253422808268\n",
            "  (1, 2811)\t0.265412862886651\n",
            "  (1, 2211)\t0.18958711487573737\n",
            "  (1, 1755)\t0.3841018167959311\n",
            "  (1, 1506)\t0.1518827718628741\n",
            "  (1, 1198)\t0.28906553042707556\n",
            "  (2, 12165)\t0.42325392961598707\n",
            "  (2, 7486)\t0.48876787572256536\n",
            "  (2, 4688)\t0.3465537234196917\n",
            "  (2, 4246)\t0.3848045076337543\n",
            "  (2, 2447)\t0.45938315338966046\n",
            "  :\t:\n",
            "  (11822, 7749)\t0.2981663549995988\n",
            "  (11822, 7460)\t0.29882673753604944\n",
            "  (11822, 5893)\t0.26852505805379523\n",
            "  (11822, 4126)\t0.24477747352433543\n",
            "  (11822, 3675)\t0.24821927939570962\n",
            "  (11823, 11136)\t0.29648045202659623\n",
            "  (11823, 9614)\t0.2221892811390345\n",
            "  (11823, 8908)\t0.22760362876751616\n",
            "  (11823, 8102)\t0.33152204958367376\n",
            "  (11823, 7821)\t0.3212441756557835\n",
            "  (11823, 6528)\t0.28510321439615205\n",
            "  (11823, 6388)\t0.28199460232529927\n",
            "  (11823, 4187)\t0.30125106149528497\n",
            "  (11823, 2785)\t0.23173050007641197\n",
            "  (11823, 2426)\t0.29648045202659623\n",
            "  (11823, 1941)\t0.271716728397409\n",
            "  (11823, 1447)\t0.27648733786609775\n",
            "  (11823, 58)\t0.23321931971744844\n",
            "  (11824, 12774)\t0.2397512682879639\n",
            "  (11824, 12616)\t0.35918537042905063\n",
            "  (11824, 11628)\t0.30301222275661915\n",
            "  (11824, 9972)\t0.2671029031541941\n",
            "  (11824, 5263)\t0.4831495196300798\n",
            "  (11824, 4795)\t0.4831495196300798\n",
            "  (11824, 4265)\t0.4283432202955931\n"
          ]
        }
      ]
    },
    {
      "cell_type": "markdown",
      "source": [
        "Splittig the dataset to training & test data "
      ],
      "metadata": {
        "id": "0CR4A0yvF6Xm"
      }
    },
    {
      "cell_type": "code",
      "source": [
        "X_train, X_test, Y_train, Y_test = train_test_split(X, Y, test_size = 0.2, stratify=Y, random_state=3)"
      ],
      "metadata": {
        "id": "nmI5TZjbGJy4"
      },
      "execution_count": null,
      "outputs": []
    },
    {
      "cell_type": "markdown",
      "source": [
        "divided the content data into two parts \n",
        "\n",
        "X_train : training \n",
        " \n",
        "X_test : testing data\n",
        "\n",
        "for getting 20% test data and training data 80% thats why test_size=0.2\n",
        "\n",
        "Similarly for label means Y \n",
        "Y_train, Y_test\n",
        "\n",
        "Stratify will proportionate X and Y equally basically the label was having the proportion of 1 and 0 so to mantain that we did stratify so that it assign (the same true or false to same news)\n",
        "\n",
        "\n",
        "random state is just a way of splitting so to do it same as youtuber we are choosing 2 only"
      ],
      "metadata": {
        "id": "teaURQGXGmkC"
      }
    },
    {
      "cell_type": "markdown",
      "source": [
        "Training the Model : Logistic Regression\n"
      ],
      "metadata": {
        "id": "KYM1AEXbJGA6"
      }
    },
    {
      "cell_type": "code",
      "source": [
        "model=LogisticRegression()"
      ],
      "metadata": {
        "id": "ASuOl8NoMr3j"
      },
      "execution_count": null,
      "outputs": []
    },
    {
      "cell_type": "code",
      "source": [
        "model.fit(X_train, Y_train)"
      ],
      "metadata": {
        "colab": {
          "base_uri": "https://localhost:8080/"
        },
        "id": "0GTC7necKJ-9",
        "outputId": "0b58cc8b-3ea5-47f8-c75f-a23bf5f0d2fe"
      },
      "execution_count": null,
      "outputs": [
        {
          "output_type": "execute_result",
          "data": {
            "text/plain": [
              "LogisticRegression()"
            ]
          },
          "metadata": {},
          "execution_count": 22
        }
      ]
    },
    {
      "cell_type": "markdown",
      "source": [
        "*EVALUATION*\n",
        "\n",
        "ACCURACY SCORE\n"
      ],
      "metadata": {
        "id": "4f6KuH2VFleE"
      }
    },
    {
      "cell_type": "code",
      "source": [
        "#accuracy score on the training data\n",
        "X_train_prediction = model.predict(X_train)\n",
        "training_data_accuracy = accuracy_score(X_train_prediction, Y_train)"
      ],
      "metadata": {
        "id": "Y4SX4D3JKRrM"
      },
      "execution_count": null,
      "outputs": []
    },
    {
      "cell_type": "code",
      "source": [
        "print(\"Accuracy Score of the Training data : \",training_data_accuracy)"
      ],
      "metadata": {
        "colab": {
          "base_uri": "https://localhost:8080/"
        },
        "id": "Ra7_8Gr6GVAW",
        "outputId": "c088d0d1-af33-4d0f-900b-edf4a9aff19d"
      },
      "execution_count": null,
      "outputs": [
        {
          "output_type": "stream",
          "name": "stdout",
          "text": [
            "Accuracy Score of the Training data :  0.9817124735729387\n"
          ]
        }
      ]
    },
    {
      "cell_type": "code",
      "source": [
        "#accuracy score on the test data\n",
        "X_test_prediction = model.predict(X_test)\n",
        "test_data_accuracy = accuracy_score(X_test_prediction, Y_test)"
      ],
      "metadata": {
        "id": "Qj0HckhOHLBE"
      },
      "execution_count": null,
      "outputs": []
    },
    {
      "cell_type": "code",
      "source": [
        "print(\"Accuracy Score of the Test data : \", test_data_accuracy)"
      ],
      "metadata": {
        "colab": {
          "base_uri": "https://localhost:8080/"
        },
        "id": "XGdisadYIIyZ",
        "outputId": "8323609e-5b0e-4e34-e4d6-1eed44240c14"
      },
      "execution_count": null,
      "outputs": [
        {
          "output_type": "stream",
          "name": "stdout",
          "text": [
            "Accuracy Score of the Test data :  0.9653276955602537\n"
          ]
        }
      ]
    },
    {
      "cell_type": "markdown",
      "source": [
        "Making a predictive system\n",
        "    "
      ],
      "metadata": {
        "id": "35aQtxhDIYIn"
      }
    },
    {
      "cell_type": "code",
      "source": [
        "X_new = X_test[1]\n",
        "prediction = model.predict(X_new)\n",
        "print(prediction)\n",
        "\n",
        "\n",
        "if(prediction[0] == 0):\n",
        "  print(\"The news is real\")\n",
        "else:\n",
        "  print(\"The news is fake\")"
      ],
      "metadata": {
        "colab": {
          "base_uri": "https://localhost:8080/"
        },
        "id": "1EMem0hxIeCs",
        "outputId": "25dc9d31-bed2-4139-e5ab-2a565a91870d"
      },
      "execution_count": null,
      "outputs": [
        {
          "output_type": "stream",
          "name": "stdout",
          "text": [
            "[1]\n",
            "The news is fake\n"
          ]
        }
      ]
    },
    {
      "cell_type": "code",
      "source": [
        "print(Y_test[1])"
      ],
      "metadata": {
        "colab": {
          "base_uri": "https://localhost:8080/"
        },
        "id": "Z6UH3XD1JCDB",
        "outputId": "70caaabd-3f56-412c-dc88-0c4fe67a952c"
      },
      "execution_count": null,
      "outputs": [
        {
          "output_type": "stream",
          "name": "stdout",
          "text": [
            "1\n"
          ]
        }
      ]
    }
  ]
}